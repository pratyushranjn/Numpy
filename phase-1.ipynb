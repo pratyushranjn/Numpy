{
 "cells": [
  {
   "cell_type": "markdown",
   "id": "149b78c9",
   "metadata": {},
   "source": [
    "## Numpy array basic\n"
   ]
  },
  {
   "cell_type": "code",
   "execution_count": 43,
   "id": "8876db96",
   "metadata": {},
   "outputs": [],
   "source": [
    "import numpy as np"
   ]
  },
  {
   "cell_type": "markdown",
   "id": "06e4093a",
   "metadata": {},
   "source": [
    "### creating array from list\n"
   ]
  },
  {
   "cell_type": "code",
   "execution_count": 44,
   "id": "95c9495e",
   "metadata": {},
   "outputs": [
    {
     "name": "stdout",
     "output_type": "stream",
     "text": [
      "1D Array:  [1 2 3 4 5]\n",
      "1D Array:  [[1 2 3 4 5]\n",
      " [6 7 8 9 0]]\n"
     ]
    }
   ],
   "source": [
    "arr1d = np.array([1, 2, 3, 4, 5])\n",
    "print(\"1D Array: \", arr1d)\n",
    "\n",
    "arr2d = np.array([[1, 2, 3, 4, 5], [6, 7, 8, 9, 0]])\n",
    "print(\"1D Array: \", arr2d)"
   ]
  },
  {
   "cell_type": "markdown",
   "id": "5048cfdf",
   "metadata": {},
   "source": [
    "### List vs numpy array\n"
   ]
  },
  {
   "cell_type": "code",
   "execution_count": 45,
   "id": "910b4f9d",
   "metadata": {},
   "outputs": [
    {
     "name": "stdout",
     "output_type": "stream",
     "text": [
      "Python list Multiplication  [1, 2, 3, 1, 2, 3]\n",
      "Python array Multiplication  [2 4 6]\n",
      "\n",
      " List operation time 0.056439876556396484\n",
      "\n",
      " Numpy operation time 0.004367828369140625\n"
     ]
    }
   ],
   "source": [
    "list = [1, 2, 3]\n",
    "print(\"Python list Multiplication \", list * 2)\n",
    "\n",
    "np_array = np.array([1, 2, 3])  # element wise multiplication\n",
    "print(\"Python array Multiplication \", np_array * 2)\n",
    "\n",
    "\n",
    "import time\n",
    "\n",
    "start = time.time()\n",
    "py_list = [i * 2 for i in range(1000000)]\n",
    "print(\"\\n List operation time\", time.time() - start)\n",
    "\n",
    "start = time.time()\n",
    "np_array = np.arange(1000000) * 2\n",
    "print(\"\\n Numpy operation time\", time.time() - start)"
   ]
  },
  {
   "cell_type": "markdown",
   "id": "0c10a092",
   "metadata": {},
   "source": [
    "## creating array from scratch\n"
   ]
  },
  {
   "cell_type": "code",
   "execution_count": 46,
   "id": "9dcdfea1",
   "metadata": {},
   "outputs": [
    {
     "name": "stdout",
     "output_type": "stream",
     "text": [
      "\n",
      " [[0. 0. 0. 0.]\n",
      " [0. 0. 0. 0.]\n",
      " [0. 0. 0. 0.]\n",
      " [0. 0. 0. 0.]]\n",
      "\n",
      " [[1. 1. 1.]\n",
      " [1. 1. 1.]\n",
      " [1. 1. 1.]]\n",
      "\n",
      "Full array \n",
      " [[7 7 7 7]\n",
      " [7 7 7 7]\n",
      " [7 7 7 7]]\n",
      "[0 3 6 9]"
     ]
    }
   ],
   "source": [
    "zeros = np.zeros((4, 4))\n",
    "print(\"\\n\", zeros)\n",
    "\n",
    "ones = np.ones((3, 3))\n",
    "print(\"\\n\", ones)\n",
    "\n",
    "full = np.full((3, 4), 7)\n",
    "print(\"\\nFull array \\n\", full)\n",
    "\n",
    "# random = np.random.random((2, 3))\n",
    "# print('Random array\\n', random)\n",
    "\n",
    "sequence = np.arange(0, 11, 3)\n",
    "print(sequence, end=\"\")"
   ]
  },
  {
   "cell_type": "markdown",
   "id": "0538c37c",
   "metadata": {},
   "source": [
    "## Vector, Matrix, Tensor\n"
   ]
  },
  {
   "cell_type": "code",
   "execution_count": 47,
   "id": "b87df6ee",
   "metadata": {},
   "outputs": [
    {
     "name": "stdout",
     "output_type": "stream",
     "text": [
      "Vector \n",
      " [1 2 3]\n",
      "Matrix \n",
      "[[1 2 3]\n",
      " [4 5 6]]\n",
      "Tensor [[[1 2]\n",
      "  [3 4]]\n",
      "\n",
      " [[5 6]\n",
      "  [7 8]]]\n"
     ]
    }
   ],
   "source": [
    "# 1D array (vector)\n",
    "vector = np.array([1, 2, 3])\n",
    "print(f\"Vector \\n {vector}\")\n",
    "\n",
    "# 2D array (matrix)\n",
    "matrix = np.array([[1, 2, 3], [4, 5, 6]])\n",
    "print(f\"Matrix \\n{matrix}\")\n",
    "\n",
    "# 3D array (tensor)\n",
    "tensor = np.array([[[1, 2], [3, 4]], [[5, 6], [7, 8]]])\n",
    "print(\"Tensor\", tensor)"
   ]
  },
  {
   "cell_type": "markdown",
   "id": "a90e8118",
   "metadata": {},
   "source": [
    "### Array Properties\n"
   ]
  },
  {
   "cell_type": "code",
   "execution_count": 48,
   "id": "7245502e",
   "metadata": {},
   "outputs": [
    {
     "name": "stdout",
     "output_type": "stream",
     "text": [
      "Shape (2, 3)\n",
      "Dimension 2\n",
      "Size 6\n",
      "Data Type int64\n"
     ]
    }
   ],
   "source": [
    "arr = np.array([[1, 2, 3], [4, 5, 6]])\n",
    "\n",
    "print(\"Shape\", arr.shape)\n",
    "print(\"Dimension\", arr.ndim)\n",
    "print(\"Size\", arr.size)\n",
    "print(\"Data Type\", arr.dtype)"
   ]
  },
  {
   "cell_type": "markdown",
   "id": "6014f117",
   "metadata": {},
   "source": [
    "### Array Reshaping"
   ]
  },
  {
   "cell_type": "code",
   "execution_count": 49,
   "id": "bd849147",
   "metadata": {},
   "outputs": [
    {
     "name": "stdout",
     "output_type": "stream",
     "text": [
      "Original Array [ 0  1  2  3  4  5  6  7  8  9 10 11]\n",
      "Reshaped array\n",
      " [[ 0  1  2  3]\n",
      " [ 4  5  6  7]\n",
      " [ 8  9 10 11]]\n",
      "Flatend array [ 0  1  2  3  4  5  6  7  8  9 10 11]\n",
      "Raveled array [ 0  1  2  3  4  5  6  7  8  9 10 11]\n",
      "Transpose array\n",
      " [[ 0  4  8]\n",
      " [ 1  5  9]\n",
      " [ 2  6 10]\n",
      " [ 3  7 11]]\n"
     ]
    }
   ],
   "source": [
    "arr = np.arange(12)  # non-exclusive in range\n",
    "print(\"Original Array\", arr)\n",
    "\n",
    "reShaped = arr.reshape((3, 4))\n",
    "print(\"Reshaped array\\n\", reShaped)\n",
    "\n",
    "flattend = reShaped.flatten()\n",
    "print('Flatend array', flattend)\n",
    "\n",
    "# ravel (return view, instead of copy)\n",
    "raveled = reShaped.ravel()\n",
    "print('Raveled array', raveled)\n",
    "\n",
    "# Transpose Matrix\n",
    "transpose = reShaped.T\n",
    "print('Transpose array\\n', transpose)"
   ]
  }
 ],
 "metadata": {
  "kernelspec": {
   "display_name": ".venv",
   "language": "python",
   "name": "python3"
  },
  "language_info": {
   "codemirror_mode": {
    "name": "ipython",
    "version": 3
   },
   "file_extension": ".py",
   "mimetype": "text/x-python",
   "name": "python",
   "nbconvert_exporter": "python",
   "pygments_lexer": "ipython3",
   "version": "3.13.5"
  }
 },
 "nbformat": 4,
 "nbformat_minor": 5
}
