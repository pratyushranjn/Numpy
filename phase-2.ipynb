{
 "cells": [
  {
   "cell_type": "markdown",
   "id": "2b5a4ee5",
   "metadata": {},
   "source": [
    "## Numpy Array operations\n"
   ]
  },
  {
   "cell_type": "code",
   "execution_count": null,
   "id": "326fd72d",
   "metadata": {},
   "outputs": [],
   "source": [
    "import numpy as np"
   ]
  },
  {
   "cell_type": "code",
   "execution_count": null,
   "id": "b278f988",
   "metadata": {},
   "outputs": [],
   "source": [
    "arr = np.array([1, 2, 3, 4, 5, 6, 7, 8, 9, 10])\n",
    "print(\"Basic Slicing\", arr[2:7])\n",
    "print(\"With Step\", arr[1:8:2])\n",
    "\n",
    "print(\"Negative Indexing\", arr[-3])"
   ]
  },
  {
   "cell_type": "code",
   "execution_count": null,
   "id": "eeb3ef20",
   "metadata": {},
   "outputs": [],
   "source": [
    "arr2D = np.array([[1, 2, 3], [4, 5, 6], [7, 8, 9]])\n",
    "\n",
    "print(\"Specific element \", arr2D[1, 2])\n",
    "print(\"Entire row: \", arr2D[1])\n",
    "print(\"Entire row: \", arr2D[:, 1])"
   ]
  },
  {
   "cell_type": "markdown",
   "id": "054c6615",
   "metadata": {},
   "source": [
    "## SOrting\n"
   ]
  },
  {
   "cell_type": "code",
   "execution_count": null,
   "id": "0a034fc0",
   "metadata": {},
   "outputs": [],
   "source": [
    "unsorted = np.array([3, 5, 1, 6, 0, 2, 4])\n",
    "print(\"Sorted Array\", np.sort(unsorted))\n",
    "\n",
    "arr_2d_unsorted = np.array([[3, 1], [1, 2], [2, 3]])\n",
    "print(\"Sorted 2D arrray by colm\\n\", np.sort(arr_2d_unsorted, axis=0))  # Y"
   ]
  },
  {
   "cell_type": "markdown",
   "id": "19f85608",
   "metadata": {},
   "source": [
    "## Filter\n"
   ]
  },
  {
   "cell_type": "code",
   "execution_count": null,
   "id": "af909822",
   "metadata": {},
   "outputs": [],
   "source": [
    "numbers = np.array([1, 2, 3, 4, 5, 6, 7, 8, 9])\n",
    "evenNum = numbers[numbers % 2 == 0]\n",
    "print(evenNum)"
   ]
  },
  {
   "cell_type": "markdown",
   "id": "64be4e14",
   "metadata": {},
   "source": [
    "## Filter with mask\n"
   ]
  },
  {
   "cell_type": "code",
   "execution_count": null,
   "id": "55a14030",
   "metadata": {},
   "outputs": [],
   "source": [
    "mask = numbers > 5\n",
    "print(\"Numbers greater than 5\", numbers[mask])"
   ]
  },
  {
   "cell_type": "markdown",
   "id": "7f851069",
   "metadata": {},
   "source": [
    "## Fancy indexing vs np.where()\n"
   ]
  },
  {
   "cell_type": "code",
   "execution_count": null,
   "id": "e2764865",
   "metadata": {},
   "outputs": [],
   "source": [
    "indices = [0, 2, 4]\n",
    "print(numbers[indices])  # index elements\n",
    "\n",
    "where_result = np.where(numbers > 5)\n",
    "print(\"NP where\", numbers[where_result])"
   ]
  },
  {
   "cell_type": "markdown",
   "id": "309cf168",
   "metadata": {},
   "source": [
    "## condition Array\n"
   ]
  },
  {
   "cell_type": "code",
   "execution_count": null,
   "id": "3d5e4908",
   "metadata": {},
   "outputs": [],
   "source": [
    "consition_array = np.where(numbers > 5, \"true\", \"false\")\n",
    "print(consition_array)\n",
    "\n",
    "# ^^^^^\n",
    "\"\"\"if(numbers > 5) {\n",
    "       numbers * 4\n",
    "    }else {\n",
    "       numbers    \n",
    "    }\n",
    "\"\"\""
   ]
  },
  {
   "cell_type": "markdown",
   "id": "59a9fe14",
   "metadata": {},
   "source": [
    "## Adding and removing data\n"
   ]
  },
  {
   "cell_type": "code",
   "execution_count": null,
   "id": "b4d26daa",
   "metadata": {},
   "outputs": [],
   "source": [
    "arr1 = np.array([1, 2, 4, 5])\n",
    "arr2 = np.array([6, 7, 8, 9])\n",
    "combinearr = np.concatenate((arr1, arr2))\n",
    "\n",
    "print(combinearr)"
   ]
  },
  {
   "cell_type": "markdown",
   "id": "0289ecbf",
   "metadata": {},
   "source": [
    "## array compatibility\n"
   ]
  },
  {
   "cell_type": "code",
   "execution_count": null,
   "id": "fcbfd469",
   "metadata": {},
   "outputs": [],
   "source": [
    "a = np.array([1, 2, 3])\n",
    "b = np.array([4, 5, 6,0])\n",
    "c = np.array([7, 8, 9])\n",
    "\n",
    "print('Compatibility Shape => ', a.shape == b.shape)"
   ]
  },
  {
   "cell_type": "code",
   "execution_count": null,
   "id": "620e4a10",
   "metadata": {},
   "outputs": [],
   "source": [
    "original = np.array([[1,2], [3,4]])\n",
    "new_row = np.array([[5,6]])\n",
    "\n",
    "with_new_row = np.vstack((original, new_row)) # vertical stack add new row ->\n",
    "\n",
    "# print(original)\n",
    "# print(with_new_row)\n",
    "\n",
    "new_colm = np.array([[7], [8]])\n",
    "with_new_colm = np.hstack((original, new_colm))\n",
    "\n",
    "print(with_new_colm)"
   ]
  },
  {
   "cell_type": "markdown",
   "id": "bda4912c",
   "metadata": {},
   "source": [
    "## Delete operation"
   ]
  },
  {
   "cell_type": "code",
   "execution_count": 53,
   "id": "9b48d147",
   "metadata": {},
   "outputs": [
    {
     "name": "stdout",
     "output_type": "stream",
     "text": [
      "Array after deletion [2 4 5]\n"
     ]
    }
   ],
   "source": [
    "arr = np.array([1, 2, 4, 5])\n",
    "\n",
    "deleted = np.delete(arr, 0)\n",
    "print('Array after deletion',deleted)"
   ]
  }
 ],
 "metadata": {
  "kernelspec": {
   "display_name": ".venv",
   "language": "python",
   "name": "python3"
  },
  "language_info": {
   "codemirror_mode": {
    "name": "ipython",
    "version": 3
   },
   "file_extension": ".py",
   "mimetype": "text/x-python",
   "name": "python",
   "nbconvert_exporter": "python",
   "pygments_lexer": "ipython3",
   "version": "3.13.5"
  }
 },
 "nbformat": 4,
 "nbformat_minor": 5
}
